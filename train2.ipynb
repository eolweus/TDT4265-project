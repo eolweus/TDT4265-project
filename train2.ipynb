{
 "metadata": {
  "language_info": {
   "codemirror_mode": {
    "name": "ipython",
    "version": 3
   },
   "file_extension": ".py",
   "mimetype": "text/x-python",
   "name": "python",
   "nbconvert_exporter": "python",
   "pygments_lexer": "ipython3",
   "version": "3.8.8"
  },
  "orig_nbformat": 2,
  "kernelspec": {
   "name": "python388jvsc74a57bd07dd2711b9d0658e9136107501649ed829464c89abb378b6a4e24f2034252f7c6",
   "display_name": "Python 3.8.8 64-bit ('erling-4265': conda)"
  },
  "metadata": {
   "interpreter": {
    "hash": "7dd2711b9d0658e9136107501649ed829464c89abb378b6a4e24f2034252f7c6"
   }
  }
 },
 "nbformat": 4,
 "nbformat_minor": 2,
 "cells": [
  {
   "cell_type": "code",
   "execution_count": 1,
   "metadata": {},
   "outputs": [],
   "source": [
    "import logging\n",
    "import numpy as np\n",
    "import pandas as pd\n",
    "import matplotlib as mp\n",
    "import matplotlib.pyplot as plt\n",
    "import time\n",
    "import sklearn.metrics\n",
    "from utils.checkpoint import CheckPointer\n",
    "from utils.logger import setup_logger\n",
    "from trainer import do_train\n",
    "from train import *\n",
    "\n",
    "from pathlib import Path\n",
    "import torch\n",
    "from torch.utils.data import Dataset, DataLoader, sampler\n",
    "from torch import nn\n",
    "\n",
    "from DatasetLoader import DatasetLoader\n",
    "from Unet2D import Unet2D\n",
    "\n",
    "from decouple import config\n",
    "\n",
    "from PIL import Image, ImageOps\n",
    "import SimpleITK as sitk\n"
   ]
  },
  {
   "cell_type": "code",
   "execution_count": 2,
   "metadata": {},
   "outputs": [],
   "source": [
    "import os\n",
    "from pathlib import Path\n",
    "from torch.utils.data import Dataset, DataLoader, sampler\n",
    "import albumentations as A\n",
    "import cv2\n",
    "\n",
    "from augmentation import Augmenter"
   ]
  },
  {
   "cell_type": "code",
   "execution_count": 3,
   "metadata": {},
   "outputs": [],
   "source": [
    "TTE_BASE_PATH=config('TTE_BASE_PATH')\n",
    "TTE_FULL_BASE_PATH=config('TTE_FULL_BASE_PATH')\n",
    "TTE_FULL_TEST_BASE_PATH=config('TTE_FULL_TEST_BASE_PATH')\n",
    "TEE_BASE_PATH=config('TEE_BASE_PATH')"
   ]
  },
  {
   "cell_type": "code",
   "execution_count": 4,
   "metadata": {},
   "outputs": [],
   "source": [
    "# filename = TTE_FULL_BASE_PATH+\"/patient0001/patient0001_4CH_ES.mhd\"\n",
    "# filename_gt = filename.replace(\".mhd\", \"_gt.mhd\")\n"
   ]
  },
  {
   "cell_type": "code",
   "execution_count": 5,
   "metadata": {},
   "outputs": [],
   "source": [
    "tee_path = Path(TEE_BASE_PATH)"
   ]
  },
  {
   "cell_type": "code",
   "execution_count": 6,
   "metadata": {},
   "outputs": [
    {
     "output_type": "error",
     "ename": "SyntaxError",
     "evalue": "unmatched ')' (<ipython-input-6-661864b62bb7>, line 2)",
     "traceback": [
      "\u001b[0;36m  File \u001b[0;32m\"<ipython-input-6-661864b62bb7>\"\u001b[0;36m, line \u001b[0;32m2\u001b[0m\n\u001b[0;31m    ax[0].imshow(Image.fromarray(), 'RGB'))\u001b[0m\n\u001b[0m                                          ^\u001b[0m\n\u001b[0;31mSyntaxError\u001b[0m\u001b[0;31m:\u001b[0m unmatched ')'\n"
     ]
    }
   ],
   "source": [
    "\n",
    "\n",
    "fig, ax = plt.subplots(1,2)\n",
    "ax[0].imshow(Image.fromarray(), 'RGB'))\n",
    "ax[1].imshow(Image.fromarray(), 'RGB'))\n",
    "plt.show()\n"
   ]
  },
  {
   "cell_type": "code",
   "execution_count": 1,
   "metadata": {},
   "outputs": [
    {
     "output_type": "error",
     "ename": "NameError",
     "evalue": "name 'load_test_data' is not defined",
     "traceback": [
      "\u001b[0;31m---------------------------------------------------------------------------\u001b[0m",
      "\u001b[0;31mNameError\u001b[0m                                 Traceback (most recent call last)",
      "\u001b[0;32m<ipython-input-1-2335c7d0a484>\u001b[0m in \u001b[0;36m<module>\u001b[0;34m\u001b[0m\n\u001b[1;32m      2\u001b[0m \u001b[0;32mimport\u001b[0m \u001b[0mutils\u001b[0m\u001b[0;34m.\u001b[0m\u001b[0mplotter\u001b[0m \u001b[0;32mas\u001b[0m \u001b[0mplotter\u001b[0m\u001b[0;34m\u001b[0m\u001b[0;34m\u001b[0m\u001b[0m\n\u001b[1;32m      3\u001b[0m \u001b[0;34m\u001b[0m\u001b[0m\n\u001b[0;32m----> 4\u001b[0;31m \u001b[0mtte_test_data\u001b[0m\u001b[0;34m,\u001b[0m \u001b[0mtee_test_data\u001b[0m \u001b[0;34m=\u001b[0m \u001b[0mload_test_data\u001b[0m\u001b[0;34m(\u001b[0m\u001b[0;34m)\u001b[0m\u001b[0;34m\u001b[0m\u001b[0;34m\u001b[0m\u001b[0m\n\u001b[0m\u001b[1;32m      5\u001b[0m \u001b[0;34m\u001b[0m\u001b[0m\n\u001b[1;32m      6\u001b[0m \u001b[0mplotter\u001b[0m\u001b[0;34m.\u001b[0m\u001b[0mplot_image_and_mask\u001b[0m\u001b[0;34m(\u001b[0m\u001b[0mtee_test_data\u001b[0m\u001b[0;34m,\u001b[0m \u001b[0;36m1\u001b[0m\u001b[0;34m)\u001b[0m\u001b[0;34m\u001b[0m\u001b[0;34m\u001b[0m\u001b[0m\n",
      "\u001b[0;31mNameError\u001b[0m: name 'load_test_data' is not defined"
     ]
    }
   ],
   "source": [
    "import train\n",
    "import utils.plotter as plotter\n",
    "\n",
    "tte_test_data, tee_test_data = train.load_test_data()\n",
    "\n",
    "plotter.plot_image_and_mask(tee_test_data, 1)"
   ]
  },
  {
   "cell_type": "code",
   "execution_count": null,
   "metadata": {},
   "outputs": [],
   "source": []
  }
 ]
}