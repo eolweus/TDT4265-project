{
 "cells": [
  {
   "cell_type": "code",
   "execution_count": null,
   "metadata": {
    "scrolled": true,
    "tags": []
   },
   "outputs": [],
   "source": [
    "%run train.py configs/test_with_checkpoint.yaml"
   ]
  },
  {
   "cell_type": "code",
   "execution_count": null,
   "metadata": {},
   "outputs": [],
   "source": [
    "%run train.py configs/defaults.yaml"
   ]
  },
  {
   "cell_type": "code",
   "execution_count": null,
   "metadata": {},
   "outputs": [],
   "source": [
    "%run train.py configs/use_transforms.yaml"
   ]
  }
 ],
 "metadata": {
  "kernelspec": {
   "name": "python388jvsc74a57bd07dd2711b9d0658e9136107501649ed829464c89abb378b6a4e24f2034252f7c6",
   "display_name": "Python 3.8.8 64-bit ('erling-4265': conda)"
  },
  "language_info": {
   "codemirror_mode": {
    "name": "ipython",
    "version": 3
   },
   "file_extension": ".py",
   "mimetype": "text/x-python",
   "name": "python",
   "nbconvert_exporter": "python",
   "pygments_lexer": "ipython3",
   "version": "3.8.8"
  },
  "metadata": {
   "interpreter": {
    "hash": "7dd2711b9d0658e9136107501649ed829464c89abb378b6a4e24f2034252f7c6"
   }
  }
 },
 "nbformat": 4,
 "nbformat_minor": 2
}